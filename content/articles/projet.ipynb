{
 "cells": [
  {
   "cell_type": "markdown",
   "metadata": {},
   "source": [
    "# I am On My Way To Internet Fame and Fortune!\n",
    "\n",
    "This is my first post on my new blog. While not super informative it\n",
    "should convey my sense of excitement and eagerness to engage with you,\n",
    "the reader!\n",
    "\n",
    "## Tables\n",
    "\n",
    "| Option | Description |\n",
    "| ------ | ----------- |\n",
    "| data   | path to data files to supply the data that will be passed into templates. |\n",
    "| engine | engine to be used for processing templates. Handlebars is the default. |\n",
    "| ext    | extension to be used for dest files. |\n",
    "\n",
    "Right aligned columns\n",
    "\n",
    "| Option | Description |\n",
    "| ------:| -----------:|\n",
    "| data   | path to data files to supply the data that will be passed into templates. |\n",
    "| engine | engine to be used for processing templates. Handlebars is the default. |\n",
    "| ext    | extension to be used for dest files. |\n",
    "\n",
    "## Links\n",
    "\n",
    "[link text](http://dev.nodeca.com)\n",
    "\n",
    "[link with title](http://nodeca.github.io/pica/demo/ \"title text!\")\n",
    "\n",
    "Autoconverted link https://github.com/nodeca/pica (enable linkify to see)\n",
    "\n",
    "\n",
    "## Images\n",
    "\n",
    "![Minion](https://octodex.github.com/images/minion.png)\n",
    "![Stormtroopocat](https://octodex.github.com/images/stormtroopocat.jpg \"The Stormtroopocat\")\n",
    "\n",
    "Like links, Images also have a footnote style syntax\n",
    "\n",
    "![Alt text][id]\n",
    "\n",
    "With a reference later in the document defining the URL location:\n",
    "\n",
    "[id]: https://octodex.github.com/images/dojocat.jpg  \"The Dojocat\"\n"
   ]
  },
  {
   "cell_type": "markdown",
   "metadata": {},
   "source": [
    "![Minion](https://octodex.github.com/images/minion.png)"
   ]
  },
  {
   "cell_type": "code",
   "execution_count": null,
   "metadata": {},
   "outputs": [],
   "source": []
  }
 ],
 "metadata": {
  "kernelspec": {
   "display_name": "Python 3",
   "language": "python",
   "name": "python3"
  },
  "language_info": {
   "codemirror_mode": {
    "name": "ipython",
    "version": 3
   },
   "file_extension": ".py",
   "mimetype": "text/x-python",
   "name": "python",
   "nbconvert_exporter": "python",
   "pygments_lexer": "ipython3",
   "version": "3.7.4"
  }
 },
 "nbformat": 4,
 "nbformat_minor": 2
}
