{
 "cells": [
  {
   "cell_type": "markdown",
   "metadata": {},
   "source": [
    "![jbobym](/img/jbobym.PNG \"Image Title on mouse-over\")"
   ]
  },
  {
   "cell_type": "markdown",
   "metadata": {},
   "source": [
    "[![jbobym](/img/jbobym.png){:width=300px}](/img/jbobym.png \"Title that is displayed on mouse-over and as caption in colorbox\"){class=\"mybox\"}"
   ]
  },
  {
   "cell_type": "markdown",
   "metadata": {},
   "source": [
    "Hi, I am John Boby Mesadieu and I wrote this epic collection of Interweb\n",
    "wisdom. In days of yore, much of this would have been deemed sorcery\n",
    "and I would probably have been burned at the stake."
   ]
  }
 ],
 "metadata": {
  "kernelspec": {
   "display_name": "Python 3",
   "language": "python",
   "name": "python3"
  },
  "language_info": {
   "codemirror_mode": {
    "name": "ipython",
    "version": 3
   },
   "file_extension": ".py",
   "mimetype": "text/x-python",
   "name": "python",
   "nbconvert_exporter": "python",
   "pygments_lexer": "ipython3",
   "version": "3.7.4"
  }
 },
 "nbformat": 4,
 "nbformat_minor": 2
}
