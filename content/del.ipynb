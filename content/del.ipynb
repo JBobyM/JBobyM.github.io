{
 "cells": [
  {
   "cell_type": "markdown",
   "metadata": {},
   "source": [
    "# Ce poste est a supprimer!\n",
    "J'ai ecrit ce poste pour la seule raison d'experimenter comment enlever un article sur mon blog. C'est justement parcequ'il ne renferme aucune valeur ajoutee que je puisse me permettre d'ecrire les lignes qui suivent.\n",
    "\n",
    "Lionel Messi, parfois surnommé Leo Messi, né le 24 juin 1987 à Rosario, est un footballeur international argentin évoluant au poste d'attaquant au FC Barcelone.\n",
    "\n",
    "Seul footballeur sextuple Ballon d'Or et Soulier d'or européen, Messi est considéré comme l'un des meilleurs footballeurs de l'histoire. Joueur créatif complet, il est un buteur prolifique détenteur de nombreux records : sextuple vainqueur du Pichichi, il est le meilleur buteur de l'histoire du championnat d'Espagne, du FC Barcelone, de la sélection argentine, et le deuxième meilleur buteur de l'histoire de la Ligue des champions. Auteur de plus de 700 buts en carrière, il est actuellement le septième meilleur buteur de l'histoire du football en matchs officiels4,5.\n",
    "\n",
    "Il détient depuis 2012 le record mondial du nombre de buts inscrits sur une saison (73), sur une année civile (91), et le record de buts sur une saison dans un championnat européen (50). Messi se distingue également comme étant le meilleur dribbleur du monde6 et l'un des meilleurs passeurs décisifs de ce sport, étant le meilleur passeur de l'histoire du championnat d'Espagne7, de la Copa América, et le deuxième de la Ligue des champions derrière Cristiano Ronaldo.\n",
    "\n",
    "En février 2020, il devient le premier footballeur à recevoir le prestigieux Prix Laureus du meilleur sportif de l'année8.\n",
    "\n",
    "Débutant le football dans sa ville natale de Rosario au sein du club des Newell's Old Boys, il est atteint d'un problème de croissance lorsqu'il rejoint à treize ans le centre de formation du FC Barcelone, qui financera son traitement hormonal. Joueur d'un seul club depuis ses débuts professionnels à seize ans, il a depuis disputé plus de 680 matches sous les couleurs blaugrana, devenant ainsi le deuxième joueur le plus capé de l'histoire du club catalan. Avec trente-six titres remportés en carrière dont trente-quatre avec son club9, il est le joueur barcelonais et argentin le plus titré de l'histoire et possède l'un des plus beaux palmarès de son sport. Avec Barcelone, il a notamment remporté quatre Ligues des champions, dix championnats d'Espagne et six Coupes d'Espagne. L'année 2009 est marqué par la réalisation d'un triplé (Ligue des Champions, Coupe, Championnat) et même d'un sextuplé inédit historique10. Un triplé qui sera réédité en 201511 pour la première fois par un même club12. Avec son pays, il a remporté la Coupe du monde des moins de 20 ans en 2005 ainsi qu'une médaille d'or aux Jeux olympiques de 2008. "
   ]
  },
  {
   "cell_type": "code",
   "execution_count": null,
   "metadata": {},
   "outputs": [],
   "source": []
  }
 ],
 "metadata": {
  "kernelspec": {
   "display_name": "Python 3",
   "language": "python",
   "name": "python3"
  },
  "language_info": {
   "codemirror_mode": {
    "name": "ipython",
    "version": 3
   },
   "file_extension": ".py",
   "mimetype": "text/x-python",
   "name": "python",
   "nbconvert_exporter": "python",
   "pygments_lexer": "ipython3",
   "version": "3.7.4"
  }
 },
 "nbformat": 4,
 "nbformat_minor": 2
}
