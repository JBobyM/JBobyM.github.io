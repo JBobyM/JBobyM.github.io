{
 "cells": [
  {
   "cell_type": "markdown",
   "metadata": {},
   "source": [
    "![apropos](/img/apropos.jpg)"
   ]
  },
  {
   "cell_type": "markdown",
   "metadata": {},
   "source": [
    "Je suis [John Boby Mesadieu](https://twitter.com/jbobym), data scientist à [SOLUTIONS SA](https://www.solutions.ht/). Mes interets incluent la statistique, l'analyse de données, le machine learning, la programmation en Python, le développement mobile IOS et Android.\n",
    "\n",
    "\n",
    "Ce blog est destiné à tous ceux qui souhaitent travailler avec des données, en particulier ceux qui utilisent Python pour y parvenir. L'idée de ce projet est de donner un aperçu des méthodes les plus pertinentes pour pratiquer la data science, couvrant des domaines tels que la statistique, le machine learning et la visualisation de données.\n",
    "\n",
    "L'idée de ce blog puise sa motivation dans le fait que les descriptions dans les livres sont souvent trop obscures pour être compréhensibles sans investir beaucoup de temps. C'est probablement l'une des raisons pour lesquelles beaucoup de gens commencent à pâlir et à transpirer lorsqu'ils entendent le mot statistique."
   ]
  },
  {
   "cell_type": "code",
   "execution_count": null,
   "metadata": {},
   "outputs": [],
   "source": []
  }
 ],
 "metadata": {
  "kernelspec": {
   "display_name": "Python 3",
   "language": "python",
   "name": "python3"
  },
  "language_info": {
   "codemirror_mode": {
    "name": "ipython",
    "version": 3
   },
   "file_extension": ".py",
   "mimetype": "text/x-python",
   "name": "python",
   "nbconvert_exporter": "python",
   "pygments_lexer": "ipython3",
   "version": "3.8.2"
  }
 },
 "nbformat": 4,
 "nbformat_minor": 4
}
