{
 "cells": [
  {
   "cell_type": "markdown",
   "metadata": {},
   "source": [
    "Je suis [John Boby Mesadieu](https://twitter.com/jbobym), data scientist à [SOLUTIONS SA](https://www.solutions.ht/). Mes interêts incluent la statistique, l'analyse de données, le machine learning, la programmation en Python, le développement mobile IOS et Android.\n",
    "\n",
    "\n",
    "Ce blog est destiné à tous ceux qui souhaitent travailler ou qui travaillent actuellement avec des données, en particulier ceux qui utilisent Python pour y parvenir. L'idée de ce projet est de donner un aperçu des méthodes les plus pertinentes pour pratiquer la data science, couvrant des domaines tels que la statistique, le machine learning et la visualisation de données."
   ]
  }
 ],
 "metadata": {
  "kernelspec": {
   "display_name": "Python 3",
   "language": "python",
   "name": "python3"
  },
  "language_info": {
   "codemirror_mode": {
    "name": "ipython",
    "version": 3
   },
   "file_extension": ".py",
   "mimetype": "text/x-python",
   "name": "python",
   "nbconvert_exporter": "python",
   "pygments_lexer": "ipython3",
   "version": "3.8.2"
  }
 },
 "nbformat": 4,
 "nbformat_minor": 4
}
